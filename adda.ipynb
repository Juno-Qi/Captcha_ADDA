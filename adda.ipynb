{
 "cells": [
  {
   "cell_type": "code",
   "execution_count": 412,
   "metadata": {
    "collapsed": true
   },
   "outputs": [],
   "source": [
    "from captcha.image import ImageCaptcha\n",
    "from random import sample\n",
    "import numpy as np\n",
    "import os\n",
    "import matplotlib.pyplot as plt\n",
    "import matplotlib.image as mpimg\n",
    "from keras.utils.np_utils import to_categorical\n",
    "from keras.layers import Convolution2D, MaxPooling2D, GRU, TimeDistributed\n",
    "from keras import layers\n",
    "from keras.layers import Dense, Dropout, Activation, Flatten, RepeatVector,Input\n",
    "from keras.layers.normalization import BatchNormalization\n",
    "from keras.models import Sequential,Model,load_model\n",
    "from keras.callbacks import ModelCheckpoint, Callback\n",
    "from keras.optimizers import SGD\n",
    "import imageio\n",
    "import glob\n",
    "import random\n",
    "import PIL\n",
    "from keras import backend as K\n",
    "from PIL import Image\n",
    "import keras\n",
    "os.environ[\"CUDA_VISIBLE_DEVICES\"] = \"2\""
   ]
  },
  {
   "cell_type": "code",
   "execution_count": 413,
   "metadata": {},
   "outputs": [
    {
     "name": "stdout",
     "output_type": "stream",
     "text": [
      "total chars 52\n"
     ]
    }
   ],
   "source": [
    "characters =  list(\"abcdefghijklmnopqrstuvwxyzABCDEFGHIJKLMNOPQRSTUVWXYZ\")\n",
    "#nums = [str(li) for li in range(1,10)]  # 1-9\n",
    "nums = []\n",
    "all_chars = characters + nums\n",
    "char_index = {}\n",
    "for (idx,ch) in enumerate(all_chars):\n",
    "    char_index[ch] = idx\n",
    "print \"total chars\", len(char_index)\n",
    "\n",
    "H, W, C = 60, 60, 3\n",
    "def generate_data(font, total_samples, output_dir, digits_num=3, width=100, height=100, font_sizes=[50]):\n",
    "    image = ImageCaptcha(fonts=[font], width=width, height=height, font_sizes=font_sizes)\n",
    "    if not os.path.exists(output_dir):\n",
    "        os.mkdir(output_dir)    \n",
    "    labels = []\n",
    "    total_images = []\n",
    "    for i in range(total_samples):\n",
    "        cur_cap = sample(characters, digits_num)\n",
    "        cur_cap =''.join(cur_cap)\n",
    "        image.write(cur_cap, output_dir + \"images/\" + str(i) +\".png\")\n",
    "        # resize it and convert to gray scale\n",
    "        #img = Image.open(output_dir + \"images/\" + str(i) +\".png\").convert('L')\n",
    "        img = Image.open(output_dir + \"images/\" + str(i) +\".png\")\n",
    "        img = img.resize((width, height))\n",
    "        \n",
    "        img.save(output_dir + \"images/\" + str(i) +\".png\")\n",
    "        img = imageio.imread(output_dir + \"images/\" + str(i) +\".png\")\n",
    "        total_images.append(np.array(img))\n",
    "        \n",
    "        label = []\n",
    "        for ch in cur_cap:\n",
    "            label.append(char_index[ch])\n",
    "        labels.append(label)\n",
    "    labels = np.asarray(labels)\n",
    "    labels.dump(output_dir + \"labels/\" + \"labels\")\n",
    "    images = np.asarray(total_images)\n",
    "    images.dump(output_dir + \"images/\" + \"images\")\n",
    "    \n",
    "# generate source image        \n",
    "#generate_data(\"fonts/font_source/LeagueGothic-Regular.otf\", 20000, \"sourceImages/\")\n",
    "    \n",
    "# generate target image\n",
    "#generate_data(\"fonts/font_target/OpenSans-Bold.ttf\", 15000, \"targetImages/\")"
   ]
  },
  {
   "cell_type": "code",
   "execution_count": 414,
   "metadata": {},
   "outputs": [
    {
     "data": {
      "image/png": "[encoded data removed]",
      "text/plain": [
       "<matplotlib.figure.Figure at 0x7f1407db0390>"
      ]
     },
     "metadata": {},
     "output_type": "display_data"
    }
   ],
   "source": [
    "#check source sample\n",
    "img = mpimg.imread('sourceImages/images/9.png')\n",
    "plt.imshow(img)\n",
    "plt.show()"
   ]
  },
  {
   "cell_type": "code",
   "execution_count": 415,
   "metadata": {},
   "outputs": [
    {
     "data": {
      "image/png": "[encoded data removed]",
      "text/plain": [
       "<matplotlib.figure.Figure at 0x7f14059eff90>"
      ]
     },
     "metadata": {},
     "output_type": "display_data"
    },
    {
     "name": "stdout",
     "output_type": "stream",
     "text": [
      "(100, 100, 3)\n"
     ]
    }
   ],
   "source": [
    "#check target sample\n",
    "img = mpimg.imread('targetImages/images/9.png')\n",
    "plt.imshow(img)\n",
    "plt.show()\n",
    "print(img.shape)"
   ]
  },
  {
   "cell_type": "code",
   "execution_count": 416,
   "metadata": {},
   "outputs": [
    {
     "name": "stdout",
     "output_type": "stream",
     "text": [
      "images shape (20000, 100, 100, 3)\n",
      "input labels shape (20000, 3, 52)\n",
      "images shape (15000, 100, 100, 3)\n",
      "input labels shape (15000, 3, 52)\n"
     ]
    }
   ],
   "source": [
    "# create a function to load all data\n",
    "def load_data(images_dir, labels_dir, split_ratio):\n",
    "    \n",
    "    with open(images_dir, \"rb\")as f:\n",
    "        images = np.load(f)\n",
    "\n",
    "    images = np.asarray(images)\n",
    "    \n",
    "    with open(labels_dir, \"rb\") as f:\n",
    "        labels = np.load(f)\n",
    "\n",
    "    vocab_size = len(all_chars)\n",
    "\n",
    "    labels_categorical = np.asarray([to_categorical(label, vocab_size) for label in labels])\n",
    "    print \"images shape\", images.shape\n",
    "    # print images[0]\n",
    "    print \"input labels shape\", labels_categorical.shape\n",
    "    total = images.shape[0]\n",
    "    seed = range(total)\n",
    "    random.shuffle(seed)\n",
    "    split_index = int(total*split_ratio)\n",
    "    train_data = images[seed[0:split_index]]\n",
    "    train_label = labels_categorical[seed[0:split_index]]\n",
    "    val_data = images[seed[split_index:]]\n",
    "    val_label = labels_categorical[seed[split_index:]]\n",
    "    return (train_data, train_label, val_data, val_label)\n",
    "\n",
    "source_trainX, source_trainY, source_valX, source_valY = load_data(\"sourceImages/images/images\",\"sourceImages/labels/labels\", 0.75)\n",
    "target_trainX, target_trainY, _, _ = load_data(\"targetImages/images/images\",\"targetImages/labels/labels\", 1)"
   ]
  },
  {
   "cell_type": "code",
   "execution_count": 417,
   "metadata": {
    "collapsed": true
   },
   "outputs": [],
   "source": [
    "def create_classifier(vocab_size, num_outputs_chars = 3, image_shape=(100,100,3)):\n",
    "    '''\n",
    "    num_outputs_chars: how many output should the model have; we only have one output by default, which means the sequence only has three letters\n",
    "    '''\n",
    "    image_model = Sequential()\n",
    "    image_model.add(Convolution2D(32, (3, 3), padding='valid', input_shape=image_shape))\n",
    "    image_model.add(BatchNormalization())\n",
    "    image_model.add(Activation('relu'))\n",
    "    image_model.add(Convolution2D(32, (3, 3), padding='valid'))\n",
    "    image_model.add(BatchNormalization())\n",
    "    image_model.add(Activation('relu'))\n",
    "    image_model.add(MaxPooling2D(pool_size=(2, 2), padding='valid'))\n",
    "    image_model.add(Dropout(0.25))\n",
    "    image_model.add(Convolution2D(64, (3, 3), padding='valid'))\n",
    "    image_model.add(BatchNormalization())\n",
    "    image_model.add(Activation('relu'))\n",
    "    image_model.add(Convolution2D(64, (3, 3),padding='valid'))\n",
    "    image_model.add(BatchNormalization())\n",
    "    image_model.add(Activation('relu'))\n",
    "    image_model.add(MaxPooling2D(pool_size=(2, 2), padding='valid'))\n",
    "    image_model.add(Dropout(0.25))\n",
    "    image_model.add(Flatten())\n",
    "    \n",
    "    image_model.summary()\n",
    "    #for layer in image_model.layers:\n",
    "    #    print(layer.get_output_at(0).get_shape().as_list())\n",
    "    # Note: Keras does automatic shape inference.\n",
    "    image_input = Input(shape=image_shape)\n",
    "    encoded_image = image_model(image_input)\n",
    "\n",
    "    outputs = []\n",
    "    for i in range(num_outputs_chars):\n",
    "        out1 = Dense(128, activation=\"relu\")(encoded_image)\n",
    "        output1 = Dense(vocab_size, activation=\"softmax\")(out1)\n",
    "        outputs.append(output1)\n",
    "    model = Model([image_input], outputs)\n",
    "    return (model,encoded_image, image_input)\n",
    "    "
   ]
  },
  {
   "cell_type": "code",
   "execution_count": 418,
   "metadata": {},
   "outputs": [
    {
     "name": "stdout",
     "output_type": "stream",
     "text": [
      "_________________________________________________________________\n",
      "Layer (type)                 Output Shape              Param #   \n",
      "=================================================================\n",
      "conv2d_371 (Conv2D)          (None, 98, 98, 32)        896       \n",
      "_________________________________________________________________\n",
      "batch_normalization_370 (Bat (None, 98, 98, 32)        128       \n",
      "_________________________________________________________________\n",
      "activation_370 (Activation)  (None, 98, 98, 32)        0         \n",
      "_________________________________________________________________\n",
      "conv2d_372 (Conv2D)          (None, 96, 96, 32)        9248      \n",
      "_________________________________________________________________\n",
      "batch_normalization_371 (Bat (None, 96, 96, 32)        128       \n",
      "_________________________________________________________________\n",
      "activation_371 (Activation)  (None, 96, 96, 32)        0         \n",
      "_________________________________________________________________\n",
      "max_pooling2d_185 (MaxPoolin (None, 48, 48, 32)        0         \n",
      "_________________________________________________________________\n",
      "dropout_163 (Dropout)        (None, 48, 48, 32)        0         \n",
      "_________________________________________________________________\n",
      "conv2d_373 (Conv2D)          (None, 46, 46, 64)        18496     \n",
      "_________________________________________________________________\n",
      "batch_normalization_372 (Bat (None, 46, 46, 64)        256       \n",
      "_________________________________________________________________\n",
      "activation_372 (Activation)  (None, 46, 46, 64)        0         \n",
      "_________________________________________________________________\n",
      "conv2d_374 (Conv2D)          (None, 44, 44, 64)        36928     \n",
      "_________________________________________________________________\n",
      "batch_normalization_373 (Bat (None, 44, 44, 64)        256       \n",
      "_________________________________________________________________\n",
      "activation_373 (Activation)  (None, 44, 44, 64)        0         \n",
      "_________________________________________________________________\n",
      "max_pooling2d_186 (MaxPoolin (None, 22, 22, 64)        0         \n",
      "_________________________________________________________________\n",
      "dropout_164 (Dropout)        (None, 22, 22, 64)        0         \n",
      "_________________________________________________________________\n",
      "flatten_93 (Flatten)         (None, 30976)             0         \n",
      "=================================================================\n",
      "Total params: 66,336\n",
      "Trainable params: 65,952\n",
      "Non-trainable params: 384\n",
      "_________________________________________________________________\n",
      "source_classifier summary\n",
      "____________________________________________________________________________________________________\n",
      "Layer (type)                     Output Shape          Param #     Connected to                     \n",
      "====================================================================================================\n",
      "input_143 (InputLayer)           (None, 100, 100, 3)   0                                            \n",
      "____________________________________________________________________________________________________\n",
      "sequential_107 (Sequential)      (None, 30976)         66336       input_143[0][0]                  \n",
      "____________________________________________________________________________________________________\n",
      "dense_612 (Dense)                (None, 128)           3965056     sequential_107[1][0]             \n",
      "____________________________________________________________________________________________________\n",
      "dense_614 (Dense)                (None, 128)           3965056     sequential_107[1][0]             \n",
      "____________________________________________________________________________________________________\n",
      "dense_616 (Dense)                (None, 128)           3965056     sequential_107[1][0]             \n",
      "____________________________________________________________________________________________________\n",
      "dense_613 (Dense)                (None, 52)            6708        dense_612[0][0]                  \n",
      "____________________________________________________________________________________________________\n",
      "dense_615 (Dense)                (None, 52)            6708        dense_614[0][0]                  \n",
      "____________________________________________________________________________________________________\n",
      "dense_617 (Dense)                (None, 52)            6708        dense_616[0][0]                  \n",
      "====================================================================================================\n",
      "Total params: 11,981,628\n",
      "Trainable params: 11,981,244\n",
      "Non-trainable params: 384\n",
      "____________________________________________________________________________________________________\n"
     ]
    }
   ],
   "source": [
    "source_classifier,_,_= create_classifier(len(all_chars))\n",
    "print(\"source_classifier summary\")\n",
    "source_classifier.summary()\n",
    "sgd = SGD(lr=0.001, decay=1e-6, momentum=0.9, nesterov=True)\n",
    "source_classifier.compile(loss='categorical_crossentropy', optimizer=sgd, metrics=['accuracy'])\n",
    "checkpointer= ModelCheckpoint(filepath=\"sourceModel/weights.{epoch:02d}.hdf5\")\n",
    "# we only use one letter \n",
    "digit1 = source_trainY[:,0,:]\n",
    "digit2 = source_trainY[:,1,:]\n",
    "digit3 = source_trainY[:,2,:]\n",
    "\n",
    "val_digit1 = source_valY[:,0,:]\n",
    "val_digit2 = source_valY[:,1,:]\n",
    "val_digit3 = source_valY[:,2,:]\n",
    "\n",
    "source_classifier = load_model(\"sourceModel/source_model.hdf5\")\n",
    "\n",
    "source_classifier.fit(source_trainX, [digit1, digit2, digit3], validation_data = (source_valX,[val_digit1, val_digit2, val_digit3]), shuffle=True,batch_size=64, epochs=40,callbacks=[checkpointer])\n",
    "source_classifier.save(\"sourceModel/source_model.hdf5\")\n"
   ]
  },
  {
   "cell_type": "code",
   "execution_count": 419,
   "metadata": {},
   "outputs": [
    {
     "name": "stdout",
     "output_type": "stream",
     "text": [
      "14976/15000 [============================>.] - ETA: 0s[41.00128176066081, 13.186067669677735, 13.313342899576822, 14.501871175130209, 0.040266666666666666, 0.023, 0.021933333333333332]\n"
     ]
    }
   ],
   "source": [
    "def predict_on_dataset(model, data, label):\n",
    "    return model.evaluate(x=data, y=label)\n",
    "    \n",
    "# let's see the accuracy of the source classifier on target dataset\n",
    "target_digit1 = target_trainY[:,0,:]\n",
    "target_digit2 = target_trainY[:,1,:]\n",
    "target_digit3 = target_trainY[:,2,:]\n",
    "# from the above result we can know that the validataion result is best when epoch = 2\n",
    "source_classifier=load_model(\"sourceModel/weights.01.hdf5\")\n",
    "print predict_on_dataset(source_classifier, data=target_trainX, label=[target_digit1, target_digit2, target_digit3])\n",
    "# from the result we can notice that the model predict a bad result on target data\n"
   ]
  },
  {
   "cell_type": "code",
   "execution_count": 546,
   "metadata": {},
   "outputs": [
    {
     "name": "stderr",
     "output_type": "stream",
     "text": [
      "/data1/slynedeng/anaconda2/lib/python2.7/site-packages/ipykernel_launcher.py:10: UserWarning: Update your `Model` call to the Keras 2 API: `Model(outputs=Tensor(\"de..., name=\"discriminator\", inputs=Tensor(\"in...)`\n",
      "  # Remove the CWD from sys.path while we load stuff.\n"
     ]
    },
    {
     "name": "stdout",
     "output_type": "stream",
     "text": [
      "discriminator model summary\n",
      "_________________________________________________________________\n",
      "Layer (type)                 Output Shape              Param #   \n",
      "=================================================================\n",
      "input_152 (InputLayer)       (None, 30976)             0         \n",
      "_________________________________________________________________\n",
      "dense_654 (Dense)            (None, 100)               3097700   \n",
      "_________________________________________________________________\n",
      "dense_655 (Dense)            (None, 100)               10100     \n",
      "_________________________________________________________________\n",
      "dense_656 (Dense)            (None, 2)                 202       \n",
      "=================================================================\n",
      "Total params: 3,108,002\n",
      "Trainable params: 3,108,002\n",
      "Non-trainable params: 0\n",
      "_________________________________________________________________\n",
      "_________________________________________________________________\n",
      "Layer (type)                 Output Shape              Param #   \n",
      "=================================================================\n",
      "conv2d_391 (Conv2D)          (None, 98, 98, 32)        896       \n",
      "_________________________________________________________________\n",
      "batch_normalization_390 (Bat (None, 98, 98, 32)        128       \n",
      "_________________________________________________________________\n",
      "activation_390 (Activation)  (None, 98, 98, 32)        0         \n",
      "_________________________________________________________________\n",
      "conv2d_392 (Conv2D)          (None, 96, 96, 32)        9248      \n",
      "_________________________________________________________________\n",
      "batch_normalization_391 (Bat (None, 96, 96, 32)        128       \n",
      "_________________________________________________________________\n",
      "activation_391 (Activation)  (None, 96, 96, 32)        0         \n",
      "_________________________________________________________________\n",
      "max_pooling2d_195 (MaxPoolin (None, 48, 48, 32)        0         \n",
      "_________________________________________________________________\n",
      "dropout_173 (Dropout)        (None, 48, 48, 32)        0         \n",
      "_________________________________________________________________\n",
      "conv2d_393 (Conv2D)          (None, 46, 46, 64)        18496     \n",
      "_________________________________________________________________\n",
      "batch_normalization_392 (Bat (None, 46, 46, 64)        256       \n",
      "_________________________________________________________________\n",
      "activation_392 (Activation)  (None, 46, 46, 64)        0         \n",
      "_________________________________________________________________\n",
      "conv2d_394 (Conv2D)          (None, 44, 44, 64)        36928     \n",
      "_________________________________________________________________\n",
      "batch_normalization_393 (Bat (None, 44, 44, 64)        256       \n",
      "_________________________________________________________________\n",
      "activation_393 (Activation)  (None, 44, 44, 64)        0         \n",
      "_________________________________________________________________\n",
      "max_pooling2d_196 (MaxPoolin (None, 22, 22, 64)        0         \n",
      "_________________________________________________________________\n",
      "dropout_174 (Dropout)        (None, 22, 22, 64)        0         \n",
      "_________________________________________________________________\n",
      "flatten_98 (Flatten)         (None, 30976)             0         \n",
      "=================================================================\n",
      "Total params: 66,336\n",
      "Trainable params: 65,952\n",
      "Non-trainable params: 384\n",
      "_________________________________________________________________\n",
      "target model summary\n",
      "_________________________________________________________________\n",
      "Layer (type)                 Output Shape              Param #   \n",
      "=================================================================\n",
      "input_153 (InputLayer)       (None, 100, 100, 3)       0         \n",
      "_________________________________________________________________\n",
      "sequential_143 (Sequential)  (None, 30976)             66336     \n",
      "=================================================================\n",
      "Total params: 66,336\n",
      "Trainable params: 65,952\n",
      "Non-trainable params: 384\n",
      "_________________________________________________________________\n",
      "combined model summary\n",
      "_________________________________________________________________\n",
      "Layer (type)                 Output Shape              Param #   \n",
      "=================================================================\n",
      "input_153 (InputLayer)       (None, 100, 100, 3)       0         \n",
      "_________________________________________________________________\n",
      "target_model (Model)         (None, 30976)             66336     \n",
      "_________________________________________________________________\n",
      "discriminator (Model)        (None, 2)                 3108002   \n",
      "=================================================================\n",
      "Total params: 3,174,338\n",
      "Trainable params: 65,952\n",
      "Non-trainable params: 3,108,386\n",
      "_________________________________________________________________\n"
     ]
    }
   ],
   "source": [
    "def domain_classifier(encoded_image_tensor):\n",
    "    x = Dense(100, activation='relu')(encoded_image_tensor)\n",
    "    x = Dense(100, activation='relu')(x)\n",
    "    x = Dense(2, activation = 'sigmoid')(x)\n",
    "    return x\n",
    "\n",
    "\n",
    "\n",
    "source_or_target_tensor = Input(shape=(22*22*64,))\n",
    "discriminator_model = Model(inputs=source_or_target_tensor, output=domain_classifier(source_or_target_tensor), name=\"discriminator\")\n",
    "print(\"discriminator model summary\")\n",
    "discriminator_model.summary()\n",
    "sgd = SGD(lr=0.001, decay=1e-6, momentum=0.9, nesterov=True)\n",
    "discriminator_model.compile(loss='categorical_crossentropy', optimizer=sgd, metrics=['accuracy'])\n",
    "discriminator_model.trainable=False\n",
    "\n",
    "\n",
    "_,target_image_tensor,image_input = create_classifier(len(all_chars))\n",
    "#print(keras.backend.shape(target_image_tensor))  # input shape should be inferred from here\n",
    "target_model = Model(inputs = image_input, outputs=target_image_tensor, name=\"target_model\")\n",
    "print(\"target model summary\")\n",
    "target_model.summary()\n",
    "\n",
    "temp = target_model(image_input)\n",
    "combined_model = Model(inputs=image_input, outputs=discriminator_model(temp))\n",
    "sgd = SGD(lr=0.001, decay=1e-6, momentum=0.9, nesterov=True)\n",
    "combined_model.compile(loss='categorical_crossentropy', optimizer=sgd, metrics=['accuracy'])\n",
    "print(\"combined model summary\")\n",
    "combined_model.summary()\n"
   ]
  },
  {
   "cell_type": "code",
   "execution_count": 547,
   "metadata": {},
   "outputs": [
    {
     "name": "stdout",
     "output_type": "stream",
     "text": [
      "____________________________________________________________________________________________________\n",
      "Layer (type)                     Output Shape          Param #     Connected to                     \n",
      "====================================================================================================\n",
      "input_101 (InputLayer)           (None, 100, 100, 3)   0                                            \n",
      "____________________________________________________________________________________________________\n",
      "sequential_144 (Sequential)      (None, 30976)         66336       input_101[0][0]                  \n",
      "____________________________________________________________________________________________________\n",
      "dense_447 (Dense)                (None, 128)           3965056     sequential_144[1][0]             \n",
      "____________________________________________________________________________________________________\n",
      "dense_449 (Dense)                (None, 128)           3965056     sequential_144[1][0]             \n",
      "____________________________________________________________________________________________________\n",
      "dense_451 (Dense)                (None, 128)           3965056     sequential_144[1][0]             \n",
      "____________________________________________________________________________________________________\n",
      "dense_448 (Dense)                (None, 52)            6708        dense_447[0][0]                  \n",
      "____________________________________________________________________________________________________\n",
      "dense_450 (Dense)                (None, 52)            6708        dense_449[0][0]                  \n",
      "____________________________________________________________________________________________________\n",
      "dense_452 (Dense)                (None, 52)            6708        dense_451[0][0]                  \n",
      "====================================================================================================\n",
      "Total params: 11,981,628\n",
      "Trainable params: 0\n",
      "Non-trainable params: 11,981,628\n",
      "____________________________________________________________________________________________________\n",
      "Tensor(\"sequential_144/flatten_74/Reshape:0\", shape=(?, ?), dtype=float32)\n"
     ]
    }
   ],
   "source": [
    "source_classifier = load_model(\"sourceModel/weights.01.hdf5\")\n",
    "for layer in source_classifier.layers:\n",
    "    layer.trainable = False\n",
    "source_classifier.summary()\n",
    "\n",
    "print(source_classifier.layers[1].get_output_at(1))\n",
    "target_layer = 1\n",
    "get_source_encode_layer_output = K.function([source_classifier.layers[0].input, K.learning_phase()],\n",
    "                                  [source_classifier.layers[1].get_output_at(1)])\n",
    "\n",
    "# output in test mode = 0\n",
    "# output in train mode = 1\n",
    "#source_classifier_tensor = get_source_encode_layer_output([x,0])[0]\n",
    "\n",
    "#source_classifier_tensor = intermediate_layer_model.predict(data)\n"
   ]
  },
  {
   "cell_type": "code",
   "execution_count": 555,
   "metadata": {},
   "outputs": [
    {
     "name": "stdout",
     "output_type": "stream",
     "text": [
      "begin to pre train\n",
      "[ 0.15035945  0.97421875]\n",
      "[ 0.04450023  0.99453127]\n",
      "[ 0.02521302  0.99781251]\n",
      "[ 0.01872749  0.99921876]\n",
      "[ 0.01624485  0.99937499]\n",
      "[ 0.01316375  0.99984378]\n",
      "[ 0.01151829  0.99953127]\n",
      "[ 0.01043863  0.99984378]\n"
     ]
    },
    {
     "ename": "KeyboardInterrupt",
     "evalue": "",
     "output_type": "error",
     "traceback": [
      "\u001b[0;31m---------------------------------------------------------------------------\u001b[0m",
      "\u001b[0;31mKeyboardInterrupt\u001b[0m                         Traceback (most recent call last)",
      "\u001b[0;32m<ipython-input-555-17d7f33790bf>\u001b[0m in \u001b[0;36m<module>\u001b[0;34m()\u001b[0m\n\u001b[1;32m     23\u001b[0m         \u001b[0msample_target_x\u001b[0m\u001b[0;34m,\u001b[0m \u001b[0msample_target_y\u001b[0m \u001b[0;34m=\u001b[0m \u001b[0mnext\u001b[0m\u001b[0;34m(\u001b[0m\u001b[0mtarget_data_generator\u001b[0m\u001b[0;34m)\u001b[0m\u001b[0;34m\u001b[0m\u001b[0m\n\u001b[1;32m     24\u001b[0m         \u001b[0mtarget_y\u001b[0m \u001b[0;34m=\u001b[0m \u001b[0mto_categorical\u001b[0m\u001b[0;34m(\u001b[0m\u001b[0mnp\u001b[0m\u001b[0;34m.\u001b[0m\u001b[0mones\u001b[0m\u001b[0;34m(\u001b[0m\u001b[0mlen\u001b[0m\u001b[0;34m(\u001b[0m\u001b[0msample_target_y\u001b[0m\u001b[0;34m)\u001b[0m\u001b[0;34m)\u001b[0m\u001b[0;34m,\u001b[0m\u001b[0mnum_classes\u001b[0m\u001b[0;34m=\u001b[0m\u001b[0;36m2\u001b[0m\u001b[0;34m)\u001b[0m\u001b[0;34m\u001b[0m\u001b[0m\n\u001b[0;32m---> 25\u001b[0;31m         \u001b[0mloss_fake\u001b[0m\u001b[0;34m=\u001b[0m \u001b[0mnp\u001b[0m\u001b[0;34m.\u001b[0m\u001b[0madd\u001b[0m\u001b[0;34m(\u001b[0m\u001b[0mcombined_model\u001b[0m\u001b[0;34m.\u001b[0m\u001b[0mtrain_on_batch\u001b[0m\u001b[0;34m(\u001b[0m\u001b[0msample_target_x\u001b[0m\u001b[0;34m,\u001b[0m \u001b[0mtarget_y\u001b[0m\u001b[0;34m)\u001b[0m\u001b[0;34m,\u001b[0m \u001b[0mloss_fake\u001b[0m\u001b[0;34m)\u001b[0m\u001b[0;34m\u001b[0m\u001b[0m\n\u001b[0m\u001b[1;32m     26\u001b[0m         \u001b[0;32mif\u001b[0m \u001b[0mi\u001b[0m \u001b[0;34m%\u001b[0m \u001b[0;36m200\u001b[0m \u001b[0;34m==\u001b[0m \u001b[0;36m0\u001b[0m \u001b[0;32mand\u001b[0m \u001b[0mi\u001b[0m \u001b[0;34m>\u001b[0m \u001b[0;36m0\u001b[0m\u001b[0;34m:\u001b[0m\u001b[0;34m\u001b[0m\u001b[0m\n\u001b[1;32m     27\u001b[0m             \u001b[0;32mprint\u001b[0m\u001b[0;34m(\u001b[0m\u001b[0mloss_fake\u001b[0m\u001b[0;34m/\u001b[0m\u001b[0;36m200\u001b[0m\u001b[0;34m)\u001b[0m\u001b[0;34m\u001b[0m\u001b[0m\n",
      "\u001b[0;32m/data1/slynedeng/anaconda2/lib/python2.7/site-packages/keras/engine/training.pyc\u001b[0m in \u001b[0;36mtrain_on_batch\u001b[0;34m(self, x, y, sample_weight, class_weight)\u001b[0m\n\u001b[1;32m   1760\u001b[0m             \u001b[0mins\u001b[0m \u001b[0;34m=\u001b[0m \u001b[0mx\u001b[0m \u001b[0;34m+\u001b[0m \u001b[0my\u001b[0m \u001b[0;34m+\u001b[0m \u001b[0msample_weights\u001b[0m\u001b[0;34m\u001b[0m\u001b[0m\n\u001b[1;32m   1761\u001b[0m         \u001b[0mself\u001b[0m\u001b[0;34m.\u001b[0m\u001b[0m_make_train_function\u001b[0m\u001b[0;34m(\u001b[0m\u001b[0;34m)\u001b[0m\u001b[0;34m\u001b[0m\u001b[0m\n\u001b[0;32m-> 1762\u001b[0;31m         \u001b[0moutputs\u001b[0m \u001b[0;34m=\u001b[0m \u001b[0mself\u001b[0m\u001b[0;34m.\u001b[0m\u001b[0mtrain_function\u001b[0m\u001b[0;34m(\u001b[0m\u001b[0mins\u001b[0m\u001b[0;34m)\u001b[0m\u001b[0;34m\u001b[0m\u001b[0m\n\u001b[0m\u001b[1;32m   1763\u001b[0m         \u001b[0;32mif\u001b[0m \u001b[0mlen\u001b[0m\u001b[0;34m(\u001b[0m\u001b[0moutputs\u001b[0m\u001b[0;34m)\u001b[0m \u001b[0;34m==\u001b[0m \u001b[0;36m1\u001b[0m\u001b[0;34m:\u001b[0m\u001b[0;34m\u001b[0m\u001b[0m\n\u001b[1;32m   1764\u001b[0m             \u001b[0;32mreturn\u001b[0m \u001b[0moutputs\u001b[0m\u001b[0;34m[\u001b[0m\u001b[0;36m0\u001b[0m\u001b[0;34m]\u001b[0m\u001b[0;34m\u001b[0m\u001b[0m\n",
      "\u001b[0;32m/data1/slynedeng/anaconda2/lib/python2.7/site-packages/keras/backend/tensorflow_backend.pyc\u001b[0m in \u001b[0;36m__call__\u001b[0;34m(self, inputs)\u001b[0m\n\u001b[1;32m   2268\u001b[0m                 \u001b[0mvalue\u001b[0m \u001b[0;34m=\u001b[0m \u001b[0;34m(\u001b[0m\u001b[0mindices\u001b[0m\u001b[0;34m,\u001b[0m \u001b[0msparse_coo\u001b[0m\u001b[0;34m.\u001b[0m\u001b[0mdata\u001b[0m\u001b[0;34m,\u001b[0m \u001b[0msparse_coo\u001b[0m\u001b[0;34m.\u001b[0m\u001b[0mshape\u001b[0m\u001b[0;34m)\u001b[0m\u001b[0;34m\u001b[0m\u001b[0m\n\u001b[1;32m   2269\u001b[0m             \u001b[0mfeed_dict\u001b[0m\u001b[0;34m[\u001b[0m\u001b[0mtensor\u001b[0m\u001b[0;34m]\u001b[0m \u001b[0;34m=\u001b[0m \u001b[0mvalue\u001b[0m\u001b[0;34m\u001b[0m\u001b[0m\n\u001b[0;32m-> 2270\u001b[0;31m         \u001b[0msession\u001b[0m \u001b[0;34m=\u001b[0m \u001b[0mget_session\u001b[0m\u001b[0;34m(\u001b[0m\u001b[0;34m)\u001b[0m\u001b[0;34m\u001b[0m\u001b[0m\n\u001b[0m\u001b[1;32m   2271\u001b[0m         updated = session.run(self.outputs + [self.updates_op],\n\u001b[1;32m   2272\u001b[0m                               \u001b[0mfeed_dict\u001b[0m\u001b[0;34m=\u001b[0m\u001b[0mfeed_dict\u001b[0m\u001b[0;34m,\u001b[0m\u001b[0;34m\u001b[0m\u001b[0m\n",
      "\u001b[0;32m/data1/slynedeng/anaconda2/lib/python2.7/site-packages/keras/backend/tensorflow_backend.pyc\u001b[0m in \u001b[0;36mget_session\u001b[0;34m()\u001b[0m\n\u001b[1;32m    165\u001b[0m     \u001b[0;32mif\u001b[0m \u001b[0;32mnot\u001b[0m \u001b[0m_MANUAL_VAR_INIT\u001b[0m\u001b[0;34m:\u001b[0m\u001b[0;34m\u001b[0m\u001b[0m\n\u001b[1;32m    166\u001b[0m         \u001b[0;32mwith\u001b[0m \u001b[0msession\u001b[0m\u001b[0;34m.\u001b[0m\u001b[0mgraph\u001b[0m\u001b[0;34m.\u001b[0m\u001b[0mas_default\u001b[0m\u001b[0;34m(\u001b[0m\u001b[0;34m)\u001b[0m\u001b[0;34m:\u001b[0m\u001b[0;34m\u001b[0m\u001b[0m\n\u001b[0;32m--> 167\u001b[0;31m             \u001b[0m_initialize_variables\u001b[0m\u001b[0;34m(\u001b[0m\u001b[0;34m)\u001b[0m\u001b[0;34m\u001b[0m\u001b[0m\n\u001b[0m\u001b[1;32m    168\u001b[0m     \u001b[0;32mreturn\u001b[0m \u001b[0msession\u001b[0m\u001b[0;34m\u001b[0m\u001b[0m\n\u001b[1;32m    169\u001b[0m \u001b[0;34m\u001b[0m\u001b[0m\n",
      "\u001b[0;32m/data1/slynedeng/anaconda2/lib/python2.7/site-packages/keras/backend/tensorflow_backend.pyc\u001b[0m in \u001b[0;36m_initialize_variables\u001b[0;34m()\u001b[0m\n\u001b[1;32m    334\u001b[0m     \u001b[0muninitialized_variables\u001b[0m \u001b[0;34m=\u001b[0m \u001b[0;34m[\u001b[0m\u001b[0;34m]\u001b[0m\u001b[0;34m\u001b[0m\u001b[0m\n\u001b[1;32m    335\u001b[0m     \u001b[0;32mfor\u001b[0m \u001b[0mv\u001b[0m \u001b[0;32min\u001b[0m \u001b[0mvariables\u001b[0m\u001b[0;34m:\u001b[0m\u001b[0;34m\u001b[0m\u001b[0m\n\u001b[0;32m--> 336\u001b[0;31m         \u001b[0;32mif\u001b[0m \u001b[0;32mnot\u001b[0m \u001b[0mhasattr\u001b[0m\u001b[0;34m(\u001b[0m\u001b[0mv\u001b[0m\u001b[0;34m,\u001b[0m \u001b[0;34m'_keras_initialized'\u001b[0m\u001b[0;34m)\u001b[0m \u001b[0;32mor\u001b[0m \u001b[0;32mnot\u001b[0m \u001b[0mv\u001b[0m\u001b[0;34m.\u001b[0m\u001b[0m_keras_initialized\u001b[0m\u001b[0;34m:\u001b[0m\u001b[0;34m\u001b[0m\u001b[0m\n\u001b[0m\u001b[1;32m    337\u001b[0m             \u001b[0muninitialized_variables\u001b[0m\u001b[0;34m.\u001b[0m\u001b[0mappend\u001b[0m\u001b[0;34m(\u001b[0m\u001b[0mv\u001b[0m\u001b[0;34m)\u001b[0m\u001b[0;34m\u001b[0m\u001b[0m\n\u001b[1;32m    338\u001b[0m             \u001b[0mv\u001b[0m\u001b[0;34m.\u001b[0m\u001b[0m_keras_initialized\u001b[0m \u001b[0;34m=\u001b[0m \u001b[0mTrue\u001b[0m\u001b[0;34m\u001b[0m\u001b[0m\n",
      "\u001b[0;31mKeyboardInterrupt\u001b[0m: "
     ]
    }
   ],
   "source": [
    "# begin to train alternatively\n",
    "def data_generator(X_train, y_train, batch_size):\n",
    "    idx = 0\n",
    "    total = len(X_train)\n",
    "    while 1:\n",
    "        p = np.random.permutation(len(X_train)) # shuffle each time\n",
    "        X_train = X_train[p]\n",
    "        y_train = y_train[p]\n",
    "        for i in range(total/batch_size):\n",
    "            yield X_train[i*batch_size:(i+1)*batch_size], y_train[i*batch_size:(i+1)*batch_size]\n",
    "            \n",
    "        \n",
    "\n",
    "source_data_generator = data_generator(source_trainX, source_trainY, 32)\n",
    "target_data_generator = data_generator(target_trainX, target_trainY, 32)\n",
    "\n",
    "\n",
    "loss_fake = np.zeros(shape=len(combined_model.metrics_names))\n",
    "#pretrain\n",
    "\n",
    "print(\"begin to pre train\")\n",
    "for i in range(4000):\n",
    "        sample_target_x, sample_target_y = next(target_data_generator)\n",
    "        target_y = to_categorical(np.ones(len(sample_target_y)),num_classes=2)\n",
    "        loss_fake= np.add(combined_model.train_on_batch(sample_target_x, target_y), loss_fake)\n",
    "        if i % 200 == 0 and i > 0:\n",
    "            print(loss_fake/200)\n",
    "            loss_fake = 0\n",
    "print(\"finish pretrain\")\n",
    "\n",
    "\n",
    "total_training_steps = 15000/32 * 1\n",
    "k_d = 1\n",
    "k_g = 2\n",
    "loss_fake = np.zeros(shape=len(discriminator_model.metrics_names))\n",
    "loss_dis = np.zeros(shape=len(discriminator_model.metrics_names))\n",
    "\n",
    "print(discriminator_model.metrics_names)\n",
    "\n",
    "for t in range(total_training_steps):    \n",
    "    for i in range(k_g):\n",
    "        sample_target_x, sample_target_y = next(target_data_generator)\n",
    "        target_y = to_categorical(np.ones(len(sample_target_y)),num_classes=2)\n",
    "        sample_target_x2, sample_target_y = next(target_data_generator)\n",
    "        target_y2 = to_categorical(np.ones(len(sample_target_y)),num_classes=2)\n",
    "        combine_x = np.concatenate((sample_target_x, sample_target_x2),axis = 0)\n",
    "        combine_y = np.concatenate((target_y, target_y2), axis = 0)\n",
    "        loss_fake= np.add(combined_model.train_on_batch(combine_x, combine_y), loss_fake)\n",
    "        \n",
    "        \n",
    "    for i in range(k_d):\n",
    "        sample_source_x, sample_source_y = next(source_data_generator)\n",
    "        sample_target_x, sample_target_y = next(target_data_generator)\n",
    "        source_y = to_categorical(np.ones(len(sample_source_y)), num_classes=2)\n",
    "        target_y = to_categorical(np.zeros(len(sample_target_y)), num_classes=2)\n",
    "        source_tensor_output = get_source_encode_layer_output([sample_source_x,0])[0]\n",
    "        target_tensor_output = target_model.predict(sample_target_x)\n",
    "        combine_source_target = np.concatenate((source_tensor_output,target_tensor_output), axis = 0)\n",
    "        combine_y = np.concatenate((source_y, target_y), axis = 0)\n",
    "        loss_dis = np.add(discriminator_model.train_on_batch(combine_source_target, combine_y),loss_dis)\n",
    "\n",
    "                 \n",
    "    if (t % 10) == 0:\n",
    "        print \"loss fake\", loss_fake/(10*k_g)\n",
    "        print \"loss_dis\", loss_dis/(10*k_d)\n",
    "\n",
    "        loss_fake = np.zeros(shape=len(discriminator_model.metrics_names))\n",
    "        loss_dis= np.zeros(shape=len(discriminator_model.metrics_names))\n",
    "        \n",
    "target_model.save(\"targetModel/target_model.hdf5\")\n",
    "discriminator_model.save(\"discriminatorModel/discriminator_model.hdf5\")\n",
    "\n",
    "    \n",
    "    "
   ]
  },
  {
   "cell_type": "code",
   "execution_count": 560,
   "metadata": {},
   "outputs": [
    {
     "name": "stdout",
     "output_type": "stream",
     "text": [
      "(15000, 30976)\n"
     ]
    }
   ],
   "source": [
    "source_classifier = load_model(\"sourceModel/weights.01.hdf5\")\n",
    "data=target_trainX\n",
    "label=[target_digit1, target_digit2, target_digit3]\n",
    "target_encoding = target_model.predict(data)\n",
    "print(target_encoding.shape)\n",
    "\n",
    "#print(source_classifier.layers)\n",
    "model = source_classifier\n",
    "end_classify = K.function([model.layers[2].input,K.learning_phase()],\n",
    "                                  [model.layers[-3].output, model.layers[-2].output, model.layers[-1].output])\n",
    "\n",
    "label1_predict= []\n",
    "label2_predict = []\n",
    "label3_predict = []\n",
    "for i in range(len(target_encoding)):\n",
    "    layer_output1, layer_output2, layer_output3 = end_classify([[target_encoding[i]],0])\n",
    "    label1_predict.append(np.argmax(layer_output1))\n",
    "    label2_predict.append(np.argmax(layer_output2))\n",
    "    label3_predict.append(np.argmax(layer_output3))\n",
    "    \n"
   ]
  },
  {
   "cell_type": "code",
   "execution_count": 561,
   "metadata": {
    "scrolled": true
   },
   "outputs": [
    {
     "name": "stdout",
     "output_type": "stream",
     "text": [
      "[31, 15, 51, 12, 18, 38, 17, 4, 45, 44, 45, 36, 17, 12, 18, 45, 12, 18, 15, 15]\n"
     ]
    }
   ],
   "source": [
    "print(label1_predict[0:20])"
   ]
  },
  {
   "cell_type": "code",
   "execution_count": 562,
   "metadata": {},
   "outputs": [],
   "source": [
    "true_label1 = np.argmax(target_digit1,axis=1)\n",
    "true_label2 = np.argmax(target_digit2, axis=1)\n",
    "true_label3 = np.argmax(target_digit3, axis = 1)"
   ]
  },
  {
   "cell_type": "code",
   "execution_count": 563,
   "metadata": {},
   "outputs": [
    {
     "name": "stdout",
     "output_type": "stream",
     "text": [
      "0.0367333333333\n",
      "0.062\n",
      "0.0183333333333\n"
     ]
    }
   ],
   "source": [
    "print (np.sum(label1_predict == true_label1)/float(len(label1_predict)))\n",
    "print(np.sum(label2_predict == true_label1)/float(len(label2_predict)))\n",
    "print(np.sum(label3_predict == true_label1)/float(len(label3_predict)))"
   ]
  },
  {
   "cell_type": "code",
   "execution_count": null,
   "metadata": {
    "collapsed": true
   },
   "outputs": [],
   "source": []
  }
 ],
 "metadata": {
  "kernelspec": {
   "display_name": "Python 2",
   "language": "python",
   "name": "python2"
  },
  "language_info": {
   "codemirror_mode": {
    "name": "ipython",
    "version": 2
   },
   "file_extension": ".py",
   "mimetype": "text/x-python",
   "name": "python",
   "nbconvert_exporter": "python",
   "pygments_lexer": "ipython2",
   "version": "2.7.13"
  }
 },
 "nbformat": 4,
 "nbformat_minor": 2
}
